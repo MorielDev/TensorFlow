{
  "nbformat": 4,
  "nbformat_minor": 0,
  "metadata": {
    "colab": {
      "provenance": [],
      "authorship_tag": "ABX9TyPS1ybJpTzRIAfvmFVUgq+h",
      "include_colab_link": true
    },
    "kernelspec": {
      "name": "python3",
      "display_name": "Python 3"
    },
    "language_info": {
      "name": "python"
    }
  },
  "cells": [
    {
      "cell_type": "markdown",
      "metadata": {
        "id": "view-in-github",
        "colab_type": "text"
      },
      "source": [
        "<a href=\"https://colab.research.google.com/github/NimrodDev/TensorFlow/blob/main/Q_Learning.ipynb\" target=\"_parent\"><img src=\"https://colab.research.google.com/assets/colab-badge.svg\" alt=\"Open In Colab\"/></a>"
      ]
    },
    {
      "cell_type": "code",
      "execution_count": 11,
      "metadata": {
        "colab": {
          "base_uri": "https://localhost:8080/"
        },
        "id": "3mg74Phny3qo",
        "outputId": "51d41783-65c3-4a01-a73a-856f983b4ac3"
      },
      "outputs": [
        {
          "output_type": "stream",
          "name": "stderr",
          "text": [
            "/usr/local/lib/python3.10/dist-packages/gym/core.py:317: DeprecationWarning: \u001b[33mWARN: Initializing wrapper in old step API which returns one bool instead of two. It is recommended to set `new_step_api=True` to use new step API. This will be the default behaviour in future.\u001b[0m\n",
            "  deprecation(\n",
            "/usr/local/lib/python3.10/dist-packages/gym/wrappers/step_api_compatibility.py:39: DeprecationWarning: \u001b[33mWARN: Initializing environment in old step API which returns one bool instead of two. It is recommended to set `new_step_api=True` to use new step API. This will be the default behaviour in future.\u001b[0m\n",
            "  deprecation(\n"
          ]
        }
      ],
      "source": [
        "import gym\n",
        "import numpy as np\n",
        "import time\n",
        "\n",
        "env = gym.make('FrozenLake-v1')\n",
        "STATES = env.observation_space.n\n",
        "ACTIONS = env.action_space.n"
      ]
    },
    {
      "cell_type": "code",
      "source": [
        "Q = np.zeros((STATES, ACTIONS)) # Create a matrix with all 0 values\n",
        "Q"
      ],
      "metadata": {
        "colab": {
          "base_uri": "https://localhost:8080/"
        },
        "id": "_kCNDHNXDsdP",
        "outputId": "1945c49f-93a2-4e20-a3b6-52df2295f8be"
      },
      "execution_count": 12,
      "outputs": [
        {
          "output_type": "stream",
          "name": "stderr",
          "text": [
            "/usr/local/lib/python3.10/dist-packages/ipykernel/ipkernel.py:283: DeprecationWarning: `should_run_async` will not call `transform_cell` automatically in the future. Please pass the result to `transformed_cell` argument and any exception that happen during thetransform in `preprocessing_exc_tuple` in IPython 7.17 and above.\n",
            "  and should_run_async(code)\n"
          ]
        },
        {
          "output_type": "execute_result",
          "data": {
            "text/plain": [
              "array([[0., 0., 0., 0.],\n",
              "       [0., 0., 0., 0.],\n",
              "       [0., 0., 0., 0.],\n",
              "       [0., 0., 0., 0.],\n",
              "       [0., 0., 0., 0.],\n",
              "       [0., 0., 0., 0.],\n",
              "       [0., 0., 0., 0.],\n",
              "       [0., 0., 0., 0.],\n",
              "       [0., 0., 0., 0.],\n",
              "       [0., 0., 0., 0.],\n",
              "       [0., 0., 0., 0.],\n",
              "       [0., 0., 0., 0.],\n",
              "       [0., 0., 0., 0.],\n",
              "       [0., 0., 0., 0.],\n",
              "       [0., 0., 0., 0.],\n",
              "       [0., 0., 0., 0.]])"
            ]
          },
          "metadata": {},
          "execution_count": 12
        }
      ]
    },
    {
      "cell_type": "code",
      "source": [
        "EPISODES = 10000 # How many times to run the environment from the begining\n",
        "MAX_STEPS = 100 # Max number of steps allowed for each run of environment\n",
        "\n",
        "LEARNING_RATE = 0.81 # Learning rate\n",
        "GAMMA = 0.96"
      ],
      "metadata": {
        "id": "kyzOjbsk_EO2"
      },
      "execution_count": 13,
      "outputs": []
    },
    {
      "cell_type": "markdown",
      "source": [
        "# **PICKING AN ACTION**"
      ],
      "metadata": {
        "id": "nxn0jB5LP14W"
      }
    },
    {
      "cell_type": "code",
      "source": [
        "epsilon = 0.9 # Start with a 90% chance of picking a random action\n",
        "\n",
        "# Code to pick action\n",
        "if np.random.uniform(0, 1) < epsilon: # We will check if a randomly selected value is less than epsilon\n",
        "    action = env.action_space.sample()# Take random action\n",
        "else:\n",
        "    action = np.argmax(Q[state, :]) # Use Q table to pick best action based on current values"
      ],
      "metadata": {
        "id": "DFmRlx56P-Fe"
      },
      "execution_count": 14,
      "outputs": []
    },
    {
      "cell_type": "code",
      "source": [
        "Q[state, action] = Q[state, action] + LEARNING_RATE * (reward + GAMMA * np.max(Q[new_state, :])-Q[state, action])"
      ],
      "metadata": {
        "id": "SUG02Z9zSPxc"
      },
      "execution_count": null,
      "outputs": []
    },
    {
      "cell_type": "code",
      "source": [
        "import gym\n",
        "import numpy as np\n",
        "import time\n",
        "\n",
        "env = gym.make('FrozenLake-v1')\n",
        "STATES = env.observation_space.n\n",
        "ACTIONS = env.action_space.n\n",
        "\n",
        "Q = np.zeros((STATES, ACTIONS))\n",
        "\n",
        "EPISODES = 1500 # How many times to run the environment from the beginning\n",
        "MAX_STEPS = 100 # Max number of the steps allowed for each run of environment\n",
        "\n",
        "LEARNING_RATE = 0.81 # Learning rate\n",
        "GAMMA = 0.96\n",
        "\n",
        "RENDER = False # If you want to see training, set render = True\n",
        "epsilon = 0.9"
      ],
      "metadata": {
        "id": "IBClJpvCUpCx"
      },
      "execution_count": 18,
      "outputs": []
    },
    {
      "cell_type": "code",
      "source": [
        "rewards = []\n",
        "for episode in range(EPISODES):\n",
        "  state = env.reset()\n",
        "  for _ in range(MAX_STEPS):\n",
        "    if RENDER:\n",
        "      env.render()\n",
        "    if np.random.uniform(0, 1) < epsilon:\n",
        "      action = env.action_space.sample()\n",
        "    else:\n",
        "      action = np.argmax(Q[state, :])\n",
        "\n",
        "    next_state, reward, done, _ = env.step(action)\n",
        "\n",
        "    Q[state, action] = Q[state, action] + LEARNING_RATE * (reward + GAMMA * np.max(Q[next_state, :])-Q[state, action])\n",
        "\n",
        "    state = next_state\n",
        "\n",
        "    if done:\n",
        "      rewards.append(reward)\n",
        "      epsilon -= 0.001\n",
        "      break # Reached goal\n",
        "\n",
        "print(Q)\n",
        "print(f\"Average reward: {sum(rewards)/len(rewards)}:\") # Now we can see our Q value"
      ],
      "metadata": {
        "colab": {
          "base_uri": "https://localhost:8080/"
        },
        "id": "OgsatJ02Wei6",
        "outputId": "76225450-ff9f-41de-e7e7-8f3e2fecac2f"
      },
      "execution_count": 19,
      "outputs": [
        {
          "output_type": "stream",
          "name": "stderr",
          "text": [
            "/usr/local/lib/python3.10/dist-packages/gym/utils/passive_env_checker.py:241: DeprecationWarning: `np.bool8` is a deprecated alias for `np.bool_`.  (Deprecated NumPy 1.24)\n",
            "  if not isinstance(terminated, (bool, np.bool8)):\n"
          ]
        },
        {
          "output_type": "stream",
          "name": "stdout",
          "text": [
            "[[4.42488767e-01 2.88614647e-02 3.04828222e-02 2.99967219e-02]\n",
            " [7.35749112e-03 5.63112926e-06 5.39403545e-07 2.56851106e-01]\n",
            " [1.52949079e-01 5.78378282e-03 9.91512775e-03 1.44769989e-02]\n",
            " [3.22636156e-03 7.04887513e-04 1.26518886e-02 1.50047735e-02]\n",
            " [5.28429796e-01 1.57011627e-02 1.80477251e-02 5.95945383e-03]\n",
            " [0.00000000e+00 0.00000000e+00 0.00000000e+00 0.00000000e+00]\n",
            " [1.86292416e-04 1.18404261e-06 2.95516147e-02 6.76520901e-05]\n",
            " [0.00000000e+00 0.00000000e+00 0.00000000e+00 0.00000000e+00]\n",
            " [1.60177994e-02 7.00395820e-03 6.43142349e-03 6.90341670e-01]\n",
            " [5.36857068e-03 7.35995071e-01 2.13249847e-02 1.39547643e-02]\n",
            " [2.60483904e-01 1.23174158e-03 1.60083460e-03 4.93966468e-03]\n",
            " [0.00000000e+00 0.00000000e+00 0.00000000e+00 0.00000000e+00]\n",
            " [0.00000000e+00 0.00000000e+00 0.00000000e+00 0.00000000e+00]\n",
            " [1.81311444e-02 2.38227130e-02 5.11107752e-01 6.81029390e-02]\n",
            " [1.38989913e-01 9.21799295e-01 1.65431343e-01 1.62937657e-01]\n",
            " [0.00000000e+00 0.00000000e+00 0.00000000e+00 0.00000000e+00]]\n",
            "Average reward: 0.3253333333333333:\n"
          ]
        }
      ]
    },
    {
      "cell_type": "code",
      "source": [
        "# We can plot the training progress and see how the agent improved\n",
        "import matplotlib.pyplot as plt\n",
        "\n",
        "def get_average(values):\n",
        "  return sum(values)/len(values)\n",
        "\n",
        "avg_rewards = []\n",
        "for i in range(0, len(rewards), 100):\n",
        "  avg_rewards.append(get_average(rewards[i:i+100]))\n",
        "\n",
        "plt.plot(avg_rewards)\n",
        "plt.ylabel('average reward')\n",
        "plt.xlabel('episodes (100\\'s)')\n",
        "plt.show()"
      ],
      "metadata": {
        "colab": {
          "base_uri": "https://localhost:8080/",
          "height": 504
        },
        "id": "-BQdyb4EZYnY",
        "outputId": "36212ef6-f9ee-40e0-8597-d6ccc14e8923"
      },
      "execution_count": 20,
      "outputs": [
        {
          "output_type": "stream",
          "name": "stderr",
          "text": [
            "/usr/local/lib/python3.10/dist-packages/ipykernel/ipkernel.py:283: DeprecationWarning: `should_run_async` will not call `transform_cell` automatically in the future. Please pass the result to `transformed_cell` argument and any exception that happen during thetransform in `preprocessing_exc_tuple` in IPython 7.17 and above.\n",
            "  and should_run_async(code)\n"
          ]
        },
        {
          "output_type": "display_data",
          "data": {
            "text/plain": [
              "<Figure size 640x480 with 1 Axes>"
            ],
            "image/png": "[encoded data removed]"
          },
          "metadata": {}
        }
      ]
    }
  ]
}